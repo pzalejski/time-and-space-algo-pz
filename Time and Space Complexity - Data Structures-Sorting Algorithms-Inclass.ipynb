{
 "cells": [
  {
   "cell_type": "markdown",
   "metadata": {},
   "source": [
    "# Time/Space Complexity Sorting Algorithms and Data Structures\n",
    "\n",
    "### Topics to discuss today:\n",
    "\n",
    "<ul>\n",
    "    <li>Time and Space Complexity - What is it/How do we measure it</li>\n",
    "    <li>Asymptotic Analysis</li>\n",
    "    <li><strong>Data Structures</strong></li>\n",
    "    <li>Some of the popular sorting algorithms</li>\n",
    "</ul>\n",
    "\n",
    "### Data Structures to discuss:\n",
    "- Arrays\n",
    "- Linked Lists\n",
    "    - Singly Linked Lists\n",
    "    - Doubly Linked Lists\n",
    "    - Traversing A Linked List\n",
    "    - Finding a node in a linked list\n",
    "    - Adding to a linked list\n",
    "- Binary Search Trees\n",
    "    - Contruction\n",
    "    - Traversal\n",
    "- Stacks\n",
    "- Queues\n",
    "\n",
    "- Sorting Algorithms\n",
    "    - Bubble Sort\n",
    "    - Insertion Sort\n",
    "    - Selection Sort\n"
   ]
  },
  {
   "cell_type": "markdown",
   "metadata": {},
   "source": [
    "## Time and Space Complexity\n",
    "\n",
    "#### What is it?\n",
    "\n",
    "Time and space complexity is the measure of how much time a given action(function) will take to solve a problem. In the same fashion, we determine how much a given data structure will need in terms of memory allocation. A problem can have multiple solutions and finding the optimal solution for the problem needs to be analyzed in time and space.\n",
    "\n",
    "#### How do we measure Time and Space Complexity?\n",
    "\n",
    "In order to measure time and space complexity we use Asymptotic analysis. The reason for this is because we need a way to measure different algorithms (functions) based on the size of their inputs in a mathmatical way. For example, we could have a function that is computed as f(n) and another that is g(n^2). All things around the function staying constant, the only thing that changes is the size of the input. Below is the chart that shows the different Asymptotic analysis formats. "
   ]
  },
  {
   "cell_type": "markdown",
   "metadata": {},
   "source": [
    "<table style=\"text-align:center;\" class=\"table table-bordered\">\n",
    "<tbody><tr>\n",
    "<td>constant</td>\n",
    "<td>−</td>\n",
    "<td>Ο(1)</td>\n",
    "</tr>\n",
    "<tr>\n",
    "<td>logarithmic</td>\n",
    "<td>−</td>\n",
    "<td>Ο(log n)</td>\n",
    "</tr>\n",
    "<tr>\n",
    "<td>linear</td>\n",
    "<td>−</td>\n",
    "<td>Ο(n)</td>\n",
    "</tr>\n",
    "<tr>\n",
    "<td>n log n</td>\n",
    "<td>−</td>\n",
    "<td>Ο(n log n)</td>\n",
    "</tr>\n",
    "<tr>\n",
    "<td>quadratic</td>\n",
    "<td>−</td>\n",
    "<td>Ο(n<sup>2</sup>)</td>\n",
    "</tr>\n",
    "<tr>\n",
    "<td>cubic</td>\n",
    "<td>−</td>\n",
    "<td>Ο(n<sup>3</sup>)</td>\n",
    "</tr>\n",
    "<tr>\n",
    "<td>polynomial</td>\n",
    "<td>−</td>\n",
    "<td>n<sup>Ο(1)</sup></td>\n",
    "</tr>\n",
    "<tr>\n",
    "<td>exponential</td>\n",
    "<td>−</td>\n",
    "<td>2<sup>Ο(n)</sup></td>\n",
    "</tr>\n",
    "</tbody></table>"
   ]
  },
  {
   "cell_type": "markdown",
   "metadata": {},
   "source": [
    "## Arrays"
   ]
  },
  {
   "cell_type": "markdown",
   "metadata": {},
   "source": [
    "In python we benefit from the dynamic array which means the block of memory will expand as needed for the given input to the array. In traditional arrays (depending on the type of operating system) we will usually store our inputs in 4 or 8 consecutive blocks of memory. Below is a diagram of how that looks under the hood:\n",
    "\n",
    "<img src=\"http://www.mathcs.emory.edu/~cheung/Courses/170/Syllabus/09/FIGS/array02x.gif\" style=\"height:250px; width:350px;\">"
   ]
  },
  {
   "cell_type": "markdown",
   "metadata": {},
   "source": [
    "## Which in python looks like this:"
   ]
  },
  {
   "cell_type": "code",
   "execution_count": 1,
   "metadata": {},
   "outputs": [],
   "source": [
    "array = [23,4,6,15,5,7]"
   ]
  },
  {
   "cell_type": "markdown",
   "metadata": {},
   "source": [
    "### Let's take a look at some of the time and space analysis of arrays"
   ]
  },
  {
   "cell_type": "code",
   "execution_count": 8,
   "metadata": {},
   "outputs": [
    {
     "name": "stdout",
     "output_type": "stream",
     "text": [
      "4\n",
      "23\n",
      "4\n",
      "6\n",
      "15\n",
      "5\n",
      "7\n",
      "[23, 4, 6, 15, 5, 7]\n",
      "[23, 5, 6, 15, 5, 7]\n"
     ]
    }
   ],
   "source": [
    "#indexing an array\n",
    "\n",
    "#constant time and space - O(1)\n",
    "indexing = array[1] \n",
    "print(indexing)\n",
    "\n",
    "# searching through an array\n",
    "# linear time - O(n) constant space O(1)\n",
    "for i in array:\n",
    "    print(i)\n",
    "    \n",
    "# copying an array\n",
    "# linear time and space - O(n)\n",
    "copying = array[:]\n",
    "print(copying)\n",
    "\n",
    "# setting an index in an array\n",
    "# constant time and space - O(1)\n",
    "array[1] = 5\n",
    "print(array)"
   ]
  },
  {
   "cell_type": "markdown",
   "metadata": {},
   "source": [
    "## Stacks and Queues (Review)\n",
    "\n",
    "** Stacks ** as the name suggests is a data structure that allows for data to follow the Last In First Out priciple(LIFO). Think of a stack of pancakes for example. To get the first pancake you would  start with the top and go down.\n",
    "\n",
    "** Queues ** are similar but in this case follow the First In First Out principle(FIFO). Think of this as a line in a black friday sale. The first person camped out for the big screen tv is the first to get it."
   ]
  },
  {
   "cell_type": "code",
   "execution_count": 9,
   "metadata": {},
   "outputs": [
    {
     "name": "stdout",
     "output_type": "stream",
     "text": [
      "30\n",
      "mike\n"
     ]
    }
   ],
   "source": [
    "stack = []\n",
    "\n",
    "stack.append(10)\n",
    "stack.append(20)\n",
    "stack.append(30)\n",
    "\n",
    "last_item = stack.pop()\n",
    "print(last_item)\n",
    "\n",
    "queue = []\n",
    "queue.append('mike')\n",
    "queue.append('mark')\n",
    "queue.append('max')\n",
    "\n",
    "first_item = queue.pop(0)\n",
    "print(first_item)"
   ]
  },
  {
   "cell_type": "markdown",
   "metadata": {},
   "source": [
    "## Linked List (Data Structure)\n",
    "\n",
    "A linked list is created by using the node class. We create a Node object and create another class to use this node object. We pass the appropriate values thorugh the node object to point the to the next data elements.\n",
    "\n",
    "There are some advantages and disadvantages with this data structure. **Advantages** Linked Lists can save memory because they can be flexibile with memory management which saves memory. **Disadvantages** Finding or adding to the list requires traversing the entire list."
   ]
  },
  {
   "cell_type": "code",
   "execution_count": 10,
   "metadata": {},
   "outputs": [
    {
     "name": "stdout",
     "output_type": "stream",
     "text": [
      "Mon\n",
      "Tues\n",
      "Wed\n",
      "None\n"
     ]
    }
   ],
   "source": [
    "class LinkedListNode():\n",
    "    def __init__ (self,value):\n",
    "        self.value = value\n",
    "        self.next = None\n",
    "        \n",
    "    def traverseList(self):\n",
    "        node = self # start the head node\n",
    "        while node != None:\n",
    "            print(node.value) # access the node value\n",
    "            node = node.next # move to the next link in the list\n",
    "            \n",
    "node1 = LinkedListNode('Mon')\n",
    "node2 = LinkedListNode('Tues')\n",
    "node3 = LinkedListNode('Wed')\n",
    "\n",
    "node1.next = node2\n",
    "node2.next = node3\n",
    "\n",
    "print(node1.traverseList())"
   ]
  },
  {
   "cell_type": "code",
   "execution_count": 16,
   "metadata": {},
   "outputs": [
    {
     "name": "stdout",
     "output_type": "stream",
     "text": [
      "10\n",
      "8\n",
      "40\n"
     ]
    }
   ],
   "source": [
    "# completed implementation of a linkedlist\n",
    "\n",
    "# node class\n",
    "class Node():\n",
    "    \n",
    "    #function that will start node object\n",
    "    def __init__(self,data):\n",
    "        self.data = data # assigning data point\n",
    "        self.next = None # init the next pointer\n",
    "        \n",
    "# create linkedlist class which will contain a node\n",
    "class LinkedList():\n",
    "    \n",
    "    # create head node for linkedlist\n",
    "    def __init__(self):\n",
    "        self.head = None\n",
    "        \n",
    "    def pushOn(self,new_value):\n",
    "        #put in data\n",
    "        new_node = Node(new_value)\n",
    "        \n",
    "        # make next pointer of new node as the head\n",
    "        new_node.next = self.head\n",
    "        \n",
    "        # set the head node of the linked list\n",
    "        self.head = new_node\n",
    "        \n",
    "    \n",
    "    # this method/function inserts a new node after the give previous node\n",
    "    def insterAfter(self,prev_node, new_value):\n",
    "        \n",
    "        #check if the current previous node even exists\n",
    "        if prev_node is None:\n",
    "            print('The given previous node must not be empty')\n",
    "            return # similar to break\n",
    "        \n",
    "        # if the node is not empty then create new node\n",
    "        new_node = Node(new_value)\n",
    "        \n",
    "        # update the previous next pointer to point to the new value\n",
    "        new_node.next = prev_node.next\n",
    "        \n",
    "        # make next node pointer to show the new node's value\n",
    "        prev_node.next = new_node\n",
    "        \n",
    "    # this method/function is defined so that we can append  a new node at the end of the linked list\n",
    "    def append(self,new_value):\n",
    "        #1 create new value\n",
    "        #2 put in new value\n",
    "        #3 set next pointer to none, saying we have reached the end\n",
    "        \n",
    "        new_node = Node(new_value)\n",
    "        \n",
    "        #4 if the linked list is empty ,then make this the new head node\n",
    "        if self.head is None:\n",
    "            self.head = new_node\n",
    "            return\n",
    "        #5 traverse till the end (till None is reached)\n",
    "        last = self.head\n",
    "        # while last.next != None\n",
    "        while(last.next):\n",
    "            last = last.next\n",
    "        #6 change the current tnext node to the last node\n",
    "        last.next = new_node\n",
    "        \n",
    "    def printList(self):\n",
    "        temp = self.head\n",
    "        #while temp != None\n",
    "        while (temp):\n",
    "            print(temp.data)\n",
    "            temp= temp.next\n",
    "            \n",
    "\n",
    "linkedlist = LinkedList()\n",
    "\n",
    "#insert a new node of 8\n",
    "\n",
    "linkedlist.append(8)\n",
    "linkedlist.pushOn(10)\n",
    "linkedlist.insterAfter(linkedlist.head.next,40)\n",
    "linkedlist.printList()\n",
    "            "
   ]
  },
  {
   "cell_type": "markdown",
   "metadata": {},
   "source": [
    "# Doubly Linked Lists\n",
    "A doubly Linked List allows for traversal from the fron to the back and the back to the front\n",
    "\n",
    "The run time for this traversal from front to back would be O(n) - linear time\n",
    "the run time for traversal from back to front would also be O(n) - linear time\n",
    "\n",
    "If we needed to do fron to back AND back to front at the same time that roun time would be O(n^2) - Exponential time\n",
    "\n",
    "And Space complexity in both the average and worst case be O(1) - constant time.\n",
    "Because we are dealing with the same block(s) of memory"
   ]
  },
  {
   "cell_type": "code",
   "execution_count": 17,
   "metadata": {},
   "outputs": [],
   "source": [
    "class Node():\n",
    "    def __init__(self,value):\n",
    "        self.value = value\n",
    "        self.prev = None\n",
    "        self.next = None\n",
    "        \n",
    "class DoubleLinkedList():\n",
    "    '''\n",
    "        setHead accepts a node object and will set the head and tail if the head is empty.\n",
    "        otherwise set the current nodevalue to the front of the head node\n",
    "    '''\n",
    "    \n",
    "    def __init__(self):\n",
    "        self.head = None\n",
    "        self.tail = None\n",
    "        \n",
    "    def setHead(self,node):\n",
    "        if self.head is None:\n",
    "            self.head = node\n",
    "            self.tail = node\n",
    "            return\n",
    "        self.InsterBefore(self.head,node)\n",
    "        \n",
    "    def setTail(self,node):\n",
    "        '''\n",
    "            setTail accepts a node object and will et the tail by calling setHead()\n",
    "            if the tail is empty or add to the back of the list if the tail is not empty\n",
    "        '''\n",
    "        if self.tail is None:\n",
    "            self.setHead(node)\n",
    "            return\n",
    "        self.insertAfter(self.tail,node)\n",
    "        \n",
    "    def insertBefore(self,node,nodeToInsert):\n",
    "        '''\n",
    "            insertBefore accepts a new node object and the prvious node object\n",
    "            it will chekc if the new node is present in the links both at the front and the back respectively\n",
    "            if that value is not present, then we will add the new value to the front of the previous link\n",
    "        '''\n",
    "        if nodeToInsert == self.head and nodeToInsert == self.tail:\n",
    "            return\n",
    "        self.remove(notToInsert)\n",
    "        \n",
    "        nodeToInsert.prev = node.prev\n",
    "        nodeToInsert.next = node\n",
    "        \n",
    "    def insertAfter(self,node,nodeToInsert):\n",
    "        '''\n",
    "            insertAfter accepts a new node object and a previous node object\n",
    "            it will check if the new node is present at the head and tail\n",
    "            if that value is not present, then we weill add the new value to the back of the previous link\n",
    "        '''\n",
    "        if nodeToInsert == self.head and nodeToInsert == self.tail:\n",
    "            return\n",
    "        self.remove(notToInsert)\n",
    "        \n",
    "        nodeToInsert.prev = node\n",
    "        nodeToInsert.next = node.next\n",
    "        \n",
    "        if node.next is none:\n",
    "            self.tail = nodeToInsert\n",
    "        else:\n",
    "            node.next.prev= nodeToInsert\n",
    "        node.next = nodeToInsert\n",
    "        \n",
    "    def insertAtPosition(self,position, nodeToInsert):\n",
    "        '''\n",
    "            insertAtPosition accepts an integer as a position, and anode object to insert\n",
    "            if the current position is 1 then set the node at the ehad of the list\n",
    "            if the node is not empy then set the node before the current node\n",
    "            otherwise set the node at the end of the list if the previous node's pointer is empty\n",
    "        '''\n",
    "        if position == 1:\n",
    "            self.setHead(nodeToInsert)\n",
    "            return\n",
    "        node = self.head\n",
    "        currentPosition = 1\n",
    "        while node is not Node and currentPosition != postion:\n",
    "            node = node.next\n",
    "            currentPosition += 1\n",
    "        if node is not None:\n",
    "            self.insertBefore(node,nodeToInsert)\n",
    "        else:\n",
    "            self.setTail(nodeToInsert)\n",
    "        \n",
    "    def removeNodesWithValue(self,value):\n",
    "        '''\n",
    "            removeNodesWithValue accepts a integer as a value\n",
    "            the method will start at the head node and cycle through the list until it finds a value \n",
    "            that is equal to the value we passed in\n",
    "        '''\n",
    "        node = self.head\n",
    "        while node is not None:\n",
    "            nodeToRemove = node\n",
    "            node = node.next\n",
    "            if nodeToRemove.value == value :\n",
    "                self.remove(nodeToRemove)\n",
    "    \n",
    "    def remove(self,node):\n",
    "        if node == self.head:\n",
    "            self.head == self.head.next\n",
    "        if node == self.tail:\n",
    "            self.tail = self.tail.prev\n",
    "        self.removeNodeBindings(node)\n",
    "        \n",
    "    def removeNodeBindings(self,node):\n",
    "        '''\n",
    "            removeNodeBindings accepts a node object\n",
    "            the method will check the provious node's next point and make sure it is empty\n",
    "            if not, we will update the prev node's next pointer to current pointer\n",
    "            also check if the current pointer is not empty\n",
    "        '''\n",
    "        if node.prev is not None:\n",
    "            node.prev.next = node.next\n",
    "        if node.next is not None:\n",
    "            node.next.prev = node.prev\n",
    "        node.prev = None\n",
    "        noe.next = None\n",
    "        \n",
    "    def printList(self):\n",
    "        '''\n",
    "            traverse through the list starting at teh head node\n",
    "        '''\n",
    "        \n",
    "        temp = self.head\n",
    "        while (temp):\n",
    "            print(temp,value)\n",
    "            temp = temp.next\n",
    "            \n",
    "\n",
    "node = Node(8)\n",
    "node2 = Node(20)\n",
    "node3 = Node(40)\n",
    "node4 = Node(50)\n",
    "node5 = Node(22)"
   ]
  },
  {
   "cell_type": "markdown",
   "metadata": {},
   "source": [
    "## Binary Search Trees"
   ]
  },
  {
   "cell_type": "code",
   "execution_count": 19,
   "metadata": {},
   "outputs": [
    {
     "data": {
      "text/plain": [
       "50"
      ]
     },
     "execution_count": 19,
     "metadata": {},
     "output_type": "execute_result"
    }
   ],
   "source": [
    "class BST():\n",
    "    \n",
    "    def __init__(self,value):\n",
    "        self.value = value\n",
    "        self.left = None\n",
    "        self.right = None\n",
    "        \n",
    "    def insert(self,value):\n",
    "        if value < self.value:\n",
    "            if self.left is None:\n",
    "                self.left = BST(value)\n",
    "            else:\n",
    "                self.left.insert(value)\n",
    "        else:\n",
    "            if self.right is None:\n",
    "                self.right = BST(value)\n",
    "            else:\n",
    "                self.right.insert(value)\n",
    "                \n",
    "    def contains(self,value):\n",
    "        if value < self.value:\n",
    "            if self.left is none:\n",
    "                return False\n",
    "            else:\n",
    "                return self.left.contains(value)\n",
    "        elif value > self.value:\n",
    "            if self.right is None:\n",
    "                return False\n",
    "            else:\n",
    "                return self.right.contains(value)\n",
    "        else:\n",
    "            return True\n",
    "    \n",
    "    def getMinValue(self):\n",
    "        if self.left is None:\n",
    "            return self.value\n",
    "        else:\n",
    "            return self.left.getMinValue()\n",
    "        \n",
    "    def getMaxValue(self):\n",
    "        if self.right is None:\n",
    "            return self.value\n",
    "        else:\n",
    "            return self.right.getMaxValue()\n",
    "        \n",
    "    def remove(self,value,parent=None):\n",
    "        if value < self.value:\n",
    "            if self.left is not None:\n",
    "                self.left.remove(value,self)\n",
    "        elif balue > slef.value:\n",
    "            if self.right is not None:\n",
    "                self.right.remove(value,self)\n",
    "        else:\n",
    "            if self.left is not None and self.right is not None:\n",
    "                self.value = self.right.getMinValue()\n",
    "                self.right.remove(self.value,self)\n",
    "            elif parent is None:\n",
    "                if self.left is not None:\n",
    "                    self.value = self.left.value\n",
    "                    self.right = self.left.right\n",
    "                    self.left = self.left.left\n",
    "                elif self.right is not None:\n",
    "                    self.value = self.right.value\n",
    "                    self.left = self.right.left\n",
    "                    self.right = self.right.right\n",
    "                else:\n",
    "                    self.value = None\n",
    "            elif parent.left == self:\n",
    "                parent.left = self.left if self.left is not None else self.right\n",
    "            elif parent.right == self:\n",
    "                parent.right = self.left if self.left is not None else self.right\n",
    "        return self\n",
    "\n",
    "binarysearchtree= BST(39)\n",
    "binarysearchtree.insert(40)\n",
    "binarysearchtree.insert(50)\n",
    "binarysearchtree.getMaxValue()"
   ]
  },
  {
   "cell_type": "markdown",
   "metadata": {},
   "source": [
    "## Sorting Algorithms\n",
    "\n",
    "#### Bubble Sort\n",
    "\n",
    "Worst Case: O(n^2) Time - O(1) Space"
   ]
  },
  {
   "cell_type": "code",
   "execution_count": 34,
   "metadata": {},
   "outputs": [
    {
     "data": {
      "text/plain": [
       "[18, 28, 41, 59, 59, 60, 70, 78, 82, 100]"
      ]
     },
     "execution_count": 34,
     "metadata": {},
     "output_type": "execute_result"
    }
   ],
   "source": [
    "import random\n",
    "def bubbleSort(array):\n",
    "    isSorted = False\n",
    "    while not isSorted:\n",
    "        isSorted = True\n",
    "        for num in range(len(array)-1):\n",
    "            if array[num] > array[num+1]:\n",
    "                swap(num,num+1,array)\n",
    "                isSorted = False\n",
    "    return array\n",
    "\n",
    "def swap(n1,n2,array):\n",
    "    array[n1],array[n2] = array[n2],array[n1]\n",
    "    \n",
    "bubbleSort([30,20,4,3])\n",
    "\n",
    "sample_array = [random.randint(0, 100) for i in range(10)]\n",
    "bubbleSort(sample_array)"
   ]
  },
  {
   "cell_type": "markdown",
   "metadata": {},
   "source": [
    "##### Insertion Sort\n",
    "\n",
    "Worst Case: O(n^2) time - O(1)space"
   ]
  },
  {
   "cell_type": "code",
   "execution_count": 37,
   "metadata": {},
   "outputs": [
    {
     "data": {
      "text/plain": [
       "[0, 3, 8, 23, 43, 52, 64, 80, 82, 93]"
      ]
     },
     "execution_count": 37,
     "metadata": {},
     "output_type": "execute_result"
    }
   ],
   "source": [
    "def swap(i,j,array):\n",
    "    array[i],array[j] = array[j],array[i]\n",
    "    \n",
    "def insertionSort(array):\n",
    "    for i in range(1,len(array)):\n",
    "        j = i\n",
    "        while j >0 and array[j] < array[j-1]:\n",
    "            swap(j, j-1,array)\n",
    "            j -= 1\n",
    "    return array\n",
    "\n",
    "test_array = [random.randint(0, 100) for i in range(10)]\n",
    "insertionSort(test_array)"
   ]
  },
  {
   "cell_type": "markdown",
   "metadata": {},
   "source": [
    "# Homework"
   ]
  },
  {
   "cell_type": "markdown",
   "metadata": {},
   "source": [
    "#### Problem 1: Linked Lists\n",
    "\n",
    "Using the above examples as a guide, create your own interpretation of the a Linked List class. You can not use the code above exactly, but again it can be used as a guide. This problem requires you to think about how a linked list works and create one using your own logic.\n",
    "\n",
    "*Remember* A Linked List is a list of Nodes that point to the next node in the chain. The first Node starts out as Empty(None) and each node after points to the next.\n",
    "\n",
    "Your Linked List should have a traverse method and have the ability to add a new node"
   ]
  },
  {
   "cell_type": "code",
   "execution_count": 7,
   "metadata": {},
   "outputs": [
    {
     "name": "stdout",
     "output_type": "stream",
     "text": [
      "3\n",
      "1\n",
      "5\n"
     ]
    }
   ],
   "source": [
    "class Node():\n",
    "    '''\n",
    "        a node in linkedlist\n",
    "    '''\n",
    "    def __init__(self,value,next=None):\n",
    "        self.value = value\n",
    "        self.next = next\n",
    "        \n",
    "class LinkedList():\n",
    "    '''\n",
    "        create a linkedlist \n",
    "    '''\n",
    "    def __init__(self):\n",
    "        self.head = None\n",
    "        \n",
    "    def traverse_list(self):\n",
    "        if self.head is None:\n",
    "            print('List has no element')\n",
    "            return\n",
    "        else:\n",
    "            while self.head is not None:\n",
    "                print(self.head.value)\n",
    "                self.head = self.head.next\n",
    "                \n",
    "    def addToStart(self,value):\n",
    "        new_node = Node(value)\n",
    "        new_node.next = self.head\n",
    "        self.head = new_node\n",
    "        \n",
    "    def addToEnd(self,value):\n",
    "        new_node = Node(value)\n",
    "        if self.head is None:\n",
    "            self.head = new_node\n",
    "            return\n",
    "        while self.head.next is not None:\n",
    "            self.head.next\n",
    "        self.head.next = newNode\n",
    "        \n",
    "l_l = LinkedList()\n",
    "l_l.addToStart(1)\n",
    "l_l.addToStart(3)\n",
    "l_l.addToEnd(5)\n",
    "l_l.traverse_list()"
   ]
  },
  {
   "cell_type": "markdown",
   "metadata": {},
   "source": [
    "#### Problem 2: Binary Search Tree\n",
    "\n",
    "Using the above examples as a guide, create your own interpretation of the a Binary Search Tree class. You can not use the code above exactly, but again it can be used as a guide. This problem requires you to think about how a linked list works and create one using your own logic.\n",
    "\n",
    "*Remember* Binary Search Trees start with a head node and each node to the left of that will be smaller, each node to the right of it will be greater. The far left node should be the lowest number(if one exists) available. The far right node (if one exists) should be the greatest number"
   ]
  },
  {
   "cell_type": "code",
   "execution_count": null,
   "metadata": {},
   "outputs": [],
   "source": []
  },
  {
   "cell_type": "markdown",
   "metadata": {},
   "source": [
    "#### Problem 3: Sorting a list\n",
    "\n",
    "Using the above examples as a guide, create your own interpretation of the sorting a list. You can not use the code above exactly, but again it can be used as a guide. This problem requires you to think about how a linked list works and create one using your own logic.\n",
    "\n",
    "As you work through the solution, comment the steps you are taking and why. Also, try to summerize what the potential BEST case for your particular algorithm would be."
   ]
  },
  {
   "cell_type": "code",
   "execution_count": 10,
   "metadata": {},
   "outputs": [
    {
     "name": "stdout",
     "output_type": "stream",
     "text": [
      "[73, 33, 73, 44, 75, 2, 43, 37, 84, 64]\n"
     ]
    },
    {
     "data": {
      "text/plain": [
       "[2, 33, 37, 43, 44, 64, 73, 73, 75, 84]"
      ]
     },
     "execution_count": 10,
     "metadata": {},
     "output_type": "execute_result"
    }
   ],
   "source": [
    "import random\n",
    "def insertionSort(somelist):\n",
    "\n",
    "    for n in range(1,len(somelist)): # go through 1 to length of array\n",
    "        num = somelist[n]\n",
    "        pos = n\n",
    "        \n",
    "        # check element at index n to 1 position before \n",
    "        while pos>0 and somelist[pos-1]>num:\n",
    "            # swap those elements\n",
    "            somelist[pos]=somelist[pos-1]\n",
    "            pos = pos-1\n",
    "            \n",
    "        somelist[pos] = num\n",
    "        \n",
    "    return somelist\n",
    "test_array = [random.randint(0, 100) for i in range(10)]\n",
    "print(test_array)\n",
    "insertionSort(test_array)\n",
    "\n",
    "# If the input is already in sorted order, insertion sort woould perform\n",
    "# no swaps so run time would be O(n)"
   ]
  }
 ],
 "metadata": {
  "kernelspec": {
   "display_name": "Python 3",
   "language": "python",
   "name": "python3"
  },
  "language_info": {
   "codemirror_mode": {
    "name": "ipython",
    "version": 3
   },
   "file_extension": ".py",
   "mimetype": "text/x-python",
   "name": "python",
   "nbconvert_exporter": "python",
   "pygments_lexer": "ipython3",
   "version": "3.7.4"
  }
 },
 "nbformat": 4,
 "nbformat_minor": 2
}
